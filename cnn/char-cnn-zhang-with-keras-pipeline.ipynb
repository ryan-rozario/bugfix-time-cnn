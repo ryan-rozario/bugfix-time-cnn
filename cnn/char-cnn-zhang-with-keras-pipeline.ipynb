{
 "cells": [
  {
   "cell_type": "code",
   "execution_count": 10,
   "metadata": {},
   "outputs": [],
   "source": [
    "import pandas as pd\n",
    "import numpy as np\n",
    "import datetime\n",
    "import pickle"
   ]
  },
  {
   "cell_type": "code",
   "execution_count": 11,
   "metadata": {},
   "outputs": [],
   "source": [
    "head=[\"id\",\"date_time\",\"flag\",\"option\"]\n",
    "\n",
    "temporal_dataset = pd.read_csv(\"./../data/FTDD/temporal_activity.csv\",header=None)\n",
    "temporal_dataset.columns=head\n",
    "temporal_dataset[\"date_time\"]=pd.to_datetime(temporal_dataset[\"date_time\"])"
   ]
  },
  {
   "cell_type": "code",
   "execution_count": 12,
   "metadata": {},
   "outputs": [],
   "source": [
    "#reduce the set\n",
    "compressed_set = temporal_dataset.groupby(['id'])['flag'].apply(lambda x: \"%s\" % ''.join(x)).reset_index()\n",
    "#i have not sorted by time but it seems to have come in order"
   ]
  },
  {
   "cell_type": "code",
   "execution_count": 13,
   "metadata": {},
   "outputs": [],
   "source": [
    "t_max = temporal_dataset.groupby(['id'])['date_time'].apply(lambda x: max(x)).reset_index()\n",
    "t_min =temporal_dataset.groupby(['id'])['date_time'].apply(lambda x: min(x)).reset_index()"
   ]
  },
  {
   "cell_type": "code",
   "execution_count": 14,
   "metadata": {},
   "outputs": [
    {
     "data": {
      "text/html": "<div>\n<style scoped>\n    .dataframe tbody tr th:only-of-type {\n        vertical-align: middle;\n    }\n\n    .dataframe tbody tr th {\n        vertical-align: top;\n    }\n\n    .dataframe thead th {\n        text-align: right;\n    }\n</style>\n<table border=\"1\" class=\"dataframe\">\n  <thead>\n    <tr style=\"text-align: right;\">\n      <th></th>\n      <th>id</th>\n      <th>flag</th>\n      <th>start</th>\n      <th>end</th>\n      <th>duration</th>\n    </tr>\n  </thead>\n  <tbody>\n    <tr>\n      <th>0</th>\n      <td>322067</td>\n      <td>NWCZ</td>\n      <td>2006-01-01 04:10:56</td>\n      <td>2007-07-04 14:35:00</td>\n      <td>549.0</td>\n    </tr>\n    <tr>\n      <th>1</th>\n      <td>322077</td>\n      <td>NAVCVVVYLZ</td>\n      <td>2006-01-01 07:08:00</td>\n      <td>2006-10-31 14:56:00</td>\n      <td>303.0</td>\n    </tr>\n    <tr>\n      <th>2</th>\n      <td>322080</td>\n      <td>NCWCCZ</td>\n      <td>2006-01-01 07:52:24</td>\n      <td>2009-08-26 22:06:00</td>\n      <td>1333.0</td>\n    </tr>\n    <tr>\n      <th>3</th>\n      <td>322081</td>\n      <td>NCCZ</td>\n      <td>2006-01-01 07:54:33</td>\n      <td>2007-06-06 15:25:00</td>\n      <td>521.0</td>\n    </tr>\n    <tr>\n      <th>4</th>\n      <td>322094</td>\n      <td>NCZ</td>\n      <td>2006-01-01 12:04:36</td>\n      <td>2006-01-02 18:59:00</td>\n      <td>1.0</td>\n    </tr>\n  </tbody>\n</table>\n</div>",
      "text/plain": "       id        flag               start                 end  duration\n0  322067        NWCZ 2006-01-01 04:10:56 2007-07-04 14:35:00     549.0\n1  322077  NAVCVVVYLZ 2006-01-01 07:08:00 2006-10-31 14:56:00     303.0\n2  322080      NCWCCZ 2006-01-01 07:52:24 2009-08-26 22:06:00    1333.0\n3  322081        NCCZ 2006-01-01 07:54:33 2007-06-06 15:25:00     521.0\n4  322094         NCZ 2006-01-01 12:04:36 2006-01-02 18:59:00       1.0"
     },
     "execution_count": 14,
     "metadata": {},
     "output_type": "execute_result"
    }
   ],
   "source": [
    "compressed_set[\"start\"]=t_min[\"date_time\"]\n",
    "compressed_set[\"end\"]=t_max[\"date_time\"]\n",
    "compressed_set[\"duration\"]=(compressed_set[\"end\"]-compressed_set[\"start\"]).astype('timedelta64[D]')\n",
    "\n",
    "compressed_set.drop(compressed_set[compressed_set[\"duration\"]<1].index, inplace=True)\n",
    "compressed_set=compressed_set.reset_index(drop=True)\n",
    "\n",
    "compressed_set.head()"
   ]
  },
  {
   "cell_type": "code",
   "execution_count": 15,
   "metadata": {},
   "outputs": [
    {
     "data": {
      "text/html": "<div>\n<style scoped>\n    .dataframe tbody tr th:only-of-type {\n        vertical-align: middle;\n    }\n\n    .dataframe tbody tr th {\n        vertical-align: top;\n    }\n\n    .dataframe thead th {\n        text-align: right;\n    }\n</style>\n<table border=\"1\" class=\"dataframe\">\n  <thead>\n    <tr style=\"text-align: right;\">\n      <th></th>\n      <th>id</th>\n      <th>flag</th>\n      <th>start</th>\n      <th>end</th>\n      <th>duration</th>\n      <th>label</th>\n    </tr>\n  </thead>\n  <tbody>\n    <tr>\n      <th>0</th>\n      <td>322067</td>\n      <td>NWCZ</td>\n      <td>2006-01-01 04:10:56</td>\n      <td>2007-07-04 14:35:00</td>\n      <td>549.0</td>\n      <td>2</td>\n    </tr>\n    <tr>\n      <th>1</th>\n      <td>322077</td>\n      <td>NAVCVVVYLZ</td>\n      <td>2006-01-01 07:08:00</td>\n      <td>2006-10-31 14:56:00</td>\n      <td>303.0</td>\n      <td>2</td>\n    </tr>\n    <tr>\n      <th>2</th>\n      <td>322080</td>\n      <td>NCWCCZ</td>\n      <td>2006-01-01 07:52:24</td>\n      <td>2009-08-26 22:06:00</td>\n      <td>1333.0</td>\n      <td>2</td>\n    </tr>\n    <tr>\n      <th>3</th>\n      <td>322081</td>\n      <td>NCCZ</td>\n      <td>2006-01-01 07:54:33</td>\n      <td>2007-06-06 15:25:00</td>\n      <td>521.0</td>\n      <td>2</td>\n    </tr>\n    <tr>\n      <th>4</th>\n      <td>322094</td>\n      <td>NCZ</td>\n      <td>2006-01-01 12:04:36</td>\n      <td>2006-01-02 18:59:00</td>\n      <td>1.0</td>\n      <td>1</td>\n    </tr>\n    <tr>\n      <th>...</th>\n      <td>...</td>\n      <td>...</td>\n      <td>...</td>\n      <td>...</td>\n      <td>...</td>\n      <td>...</td>\n    </tr>\n    <tr>\n      <th>60606</th>\n      <td>1116530</td>\n      <td>NCCZ</td>\n      <td>2014-12-30 10:39:00</td>\n      <td>2015-02-05 23:13:07</td>\n      <td>37.0</td>\n      <td>1</td>\n    </tr>\n    <tr>\n      <th>60607</th>\n      <td>1116570</td>\n      <td>NDZ</td>\n      <td>2014-12-30 12:43:00</td>\n      <td>2015-01-05 14:50:37</td>\n      <td>6.0</td>\n      <td>1</td>\n    </tr>\n    <tr>\n      <th>60608</th>\n      <td>1116656</td>\n      <td>NCCZ</td>\n      <td>2014-12-30 18:39:00</td>\n      <td>2015-01-02 09:20:37</td>\n      <td>2.0</td>\n      <td>1</td>\n    </tr>\n    <tr>\n      <th>60609</th>\n      <td>1116679</td>\n      <td>NQCQZ</td>\n      <td>2014-12-30 19:47:00</td>\n      <td>2015-01-13 14:08:07</td>\n      <td>13.0</td>\n      <td>1</td>\n    </tr>\n    <tr>\n      <th>60610</th>\n      <td>1116689</td>\n      <td>NCCZ</td>\n      <td>2014-12-30 20:38:00</td>\n      <td>2015-01-11 22:22:48</td>\n      <td>12.0</td>\n      <td>1</td>\n    </tr>\n  </tbody>\n</table>\n<p>60611 rows × 6 columns</p>\n</div>",
      "text/plain": "            id        flag               start                 end  duration  \\\n0       322067        NWCZ 2006-01-01 04:10:56 2007-07-04 14:35:00     549.0   \n1       322077  NAVCVVVYLZ 2006-01-01 07:08:00 2006-10-31 14:56:00     303.0   \n2       322080      NCWCCZ 2006-01-01 07:52:24 2009-08-26 22:06:00    1333.0   \n3       322081        NCCZ 2006-01-01 07:54:33 2007-06-06 15:25:00     521.0   \n4       322094         NCZ 2006-01-01 12:04:36 2006-01-02 18:59:00       1.0   \n...        ...         ...                 ...                 ...       ...   \n60606  1116530        NCCZ 2014-12-30 10:39:00 2015-02-05 23:13:07      37.0   \n60607  1116570         NDZ 2014-12-30 12:43:00 2015-01-05 14:50:37       6.0   \n60608  1116656        NCCZ 2014-12-30 18:39:00 2015-01-02 09:20:37       2.0   \n60609  1116679       NQCQZ 2014-12-30 19:47:00 2015-01-13 14:08:07      13.0   \n60610  1116689        NCCZ 2014-12-30 20:38:00 2015-01-11 22:22:48      12.0   \n\n       label  \n0          2  \n1          2  \n2          2  \n3          2  \n4          1  \n...      ...  \n60606      1  \n60607      1  \n60608      1  \n60609      1  \n60610      1  \n\n[60611 rows x 6 columns]"
     },
     "execution_count": 15,
     "metadata": {},
     "output_type": "execute_result"
    }
   ],
   "source": [
    "compressed_set[\"label\"]=(compressed_set[\"duration\"]>60)\n",
    "compressed_set[\"label\"]=compressed_set[\"label\"].apply(lambda x: 1 if x==False else 2)\n",
    "compressed_set"
   ]
  },
  {
   "cell_type": "code",
   "execution_count": 16,
   "metadata": {},
   "outputs": [],
   "source": [
    "msk = np.random.rand(len(compressed_set)) < 0.6\n",
    "train_df = compressed_set[msk]\n",
    "test_df = compressed_set[~msk]"
   ]
  },
  {
   "cell_type": "code",
   "execution_count": 36,
   "metadata": {},
   "outputs": [],
   "source": [
    "'''\n",
    "train_data_source = '../data/ag_news_csv/train.csv'\n",
    "test_data_source = '../data/ag_news_csv/test.csv'\n",
    "\n",
    "train_df = pd.read_csv(train_data_source, header=None)\n",
    "test_df = pd.read_csv(test_data_source, header=None)\n",
    "\n",
    "# concatenate column 1 and column 2 as one text\n",
    "for df in [train_df, test_df]:\n",
    "    df[1] = df[1] + df[2]\n",
    "    df = df.drop([2], axis=1)\n",
    "'''    \n",
    "# convert string to lower case \n",
    "train_texts = train_df[\"flag\"].values \n",
    "train_texts = [s.lower() for s in train_texts] \n",
    "\n",
    "test_texts = test_df[\"flag\"].values \n",
    "test_texts = [s.lower() for s in test_texts] \n",
    "\n",
    "test_texts = list(map(lambda x: x[:7] ,test_texts))\n"
   ]
  },
  {
   "cell_type": "code",
   "execution_count": 18,
   "metadata": {},
   "outputs": [
    {
     "name": "stderr",
     "output_type": "stream",
     "text": "Using TensorFlow backend.\n"
    }
   ],
   "source": [
    "from keras.preprocessing.text import Tokenizer\n",
    "from keras.preprocessing.sequence import pad_sequences"
   ]
  },
  {
   "cell_type": "code",
   "execution_count": 19,
   "metadata": {},
   "outputs": [],
   "source": [
    "\n",
    "\n",
    "# Tokenizer\n",
    "tk = Tokenizer(char_level=True)\n",
    "tk.fit_on_texts(train_texts)\n",
    "# If we already have a character list, then replace the tk.word_index"
   ]
  },
  {
   "cell_type": "code",
   "execution_count": 20,
   "metadata": {},
   "outputs": [],
   "source": [
    "alphabet=\"nmearcdvyshfwlpqz\"\n",
    "char_dict = {}\n",
    "for i, char in enumerate(alphabet):\n",
    "    char_dict[char] = i + 1\n",
    "    \n",
    "tk.word_index = char_dict.copy() \n",
    "\n",
    "train_sequences = tk.texts_to_sequences(train_texts)\n",
    "test_texts = tk.texts_to_sequences(test_texts)"
   ]
  },
  {
   "cell_type": "code",
   "execution_count": 21,
   "metadata": {},
   "outputs": [],
   "source": [
    "\n",
    "\n",
    "# Padding\n",
    "train_data = pad_sequences(train_sequences, padding='post')\n",
    "test_data = pad_sequences(test_texts,maxlen=train_data.shape[1], padding='post')\n",
    "\n",
    "# Convert to numpy array\n",
    "train_data = np.array(train_data, dtype='float32')\n",
    "test_data = np.array(test_data, dtype='float32')\n",
    "\n"
   ]
  },
  {
   "cell_type": "code",
   "execution_count": 22,
   "metadata": {},
   "outputs": [],
   "source": [
    "#=======================Get classes================\n",
    "train_classes = train_df[\"label\"].values\n",
    "train_class_list = [x-1 for x in train_classes]\n",
    "\n",
    "test_classes = test_df[\"label\"].values\n",
    "test_class_list = [x-1 for x in test_classes]\n",
    "\n",
    "from keras.utils import to_categorical\n",
    "train_classes = to_categorical(train_class_list)\n",
    "test_classes = to_categorical(test_class_list)"
   ]
  },
  {
   "cell_type": "markdown",
   "metadata": {},
   "source": [
    "## Construct Model\n",
    "\n",
    "We implement the char_cnn_zhang model from this paper:\n",
    "\n",
    "- Xiang Zhang, Junbo Zhao, Yann LeCun. [Character-level Convolutional Networks for Text Classification](http://arxiv.org/abs/1509.01626). NIPS 2015\n",
    "\n",
    "The model structure:\n",
    "\n",
    "![](https://cdn-images-1.medium.com/max/1600/0*fovAEUSdSkbsnJw5.png)\n",
    "\n",
    "This graph may look difficult to understand. Here is the model setup. \n",
    "\n",
    "\n",
    "![](https://img-blog.csdn.net/20170721104727009)\n",
    "\n",
    "We choose the small frame, 256 filters in convolutional layer and 1024 output units in dense layer. \n",
    "\n",
    "- Embedding Layer\n",
    "- Six convolutional layers, and 3 convolutional layers followed by a max pooling layer\n",
    "- Two fully connected layer(dense layer in keras), neuron units are 1024. \n",
    "- Output layer(dense layer), neuron units depends on classes. In this task, we set it 2. "
   ]
  },
  {
   "cell_type": "markdown",
   "metadata": {},
   "source": [
    "First we have to construct a embedding index. These characters are saved to `tk.word_index`, we could output it to see:"
   ]
  },
  {
   "cell_type": "code",
   "execution_count": 23,
   "metadata": {},
   "outputs": [
    {
     "name": "stdout",
     "output_type": "stream",
     "text": "{'n': 1, 'm': 2, 'e': 3, 'a': 4, 'r': 5, 'c': 6, 'd': 7, 'v': 8, 'y': 9, 's': 10, 'h': 11, 'f': 12, 'w': 13, 'l': 14, 'p': 15, 'q': 16, 'z': 17}\n"
    }
   ],
   "source": [
    "print(tk.word_index)"
   ]
  },
  {
   "cell_type": "code",
   "execution_count": 24,
   "metadata": {},
   "outputs": [
    {
     "data": {
      "text/plain": "17"
     },
     "execution_count": 24,
     "metadata": {},
     "output_type": "execute_result"
    }
   ],
   "source": [
    "vocab_size = len(tk.word_index)\n",
    "vocab_size"
   ]
  },
  {
   "cell_type": "markdown",
   "metadata": {},
   "source": [
    "We can use one-hot vector to represent these words. Because Keras use `0` for `PAD`. We add first line containing all 0 to represent the `PAD`"
   ]
  },
  {
   "cell_type": "code",
   "execution_count": 25,
   "metadata": {},
   "outputs": [],
   "source": [
    "from keras.layers import Input, Embedding, Activation, Flatten, Dense\n",
    "from keras.layers import Conv1D, MaxPooling1D, Dropout\n",
    "from keras.models import Model"
   ]
  },
  {
   "cell_type": "markdown",
   "metadata": {},
   "source": [
    "## train the model"
   ]
  },
  {
   "cell_type": "code",
   "execution_count": 26,
   "metadata": {},
   "outputs": [
    {
     "data": {
      "text/plain": "(24503, 157)"
     },
     "execution_count": 26,
     "metadata": {},
     "output_type": "execute_result"
    }
   ],
   "source": [
    "test_data.shape"
   ]
  },
  {
   "cell_type": "code",
   "execution_count": 27,
   "metadata": {},
   "outputs": [],
   "source": [
    "# =====================Char CNN in whole dataset=======================\n",
    "# parameter\n",
    "input_size = test_data.shape[1]\n",
    "vocab_size = len(tk.word_index)\n",
    "embedding_size = vocab_size\n",
    "conv_layers = [[256, 7, 3],\n",
    "               [256, 7, 3],\n",
    "               [256, 3, -1],\n",
    "               [256, 3, -1],\n",
    "               [256, 3, -1],\n",
    "               [256, 3, 3]]\n",
    "\n",
    "fully_connected_layers = [1024, 1024]\n",
    "num_of_classes = 2\n",
    "dropout_p = 0.5\n",
    "optimizer = 'adam'\n",
    "loss = 'binary_crossentropy'\n"
   ]
  },
  {
   "cell_type": "code",
   "execution_count": 28,
   "metadata": {},
   "outputs": [
    {
     "name": "stdout",
     "output_type": "stream",
     "text": "Load\n"
    }
   ],
   "source": [
    "\n",
    "# Embedding weights\n",
    "embedding_weights = []\n",
    "embedding_weights.append(np.zeros(vocab_size)) \n",
    "\n",
    "for char, i in tk.word_index.items(): \n",
    "    onehot = np.zeros(vocab_size)\n",
    "    onehot[i - 1] = 1\n",
    "    embedding_weights.append(onehot)\n",
    "\n",
    "embedding_weights = np.array(embedding_weights)\n",
    "print('Load')\n",
    "\n"
   ]
  },
  {
   "cell_type": "code",
   "execution_count": 29,
   "metadata": {},
   "outputs": [],
   "source": [
    "# Embedding layer Initialization\n",
    "embedding_layer = Embedding(vocab_size + 1,\n",
    "                            embedding_size,\n",
    "                            input_length=input_size,\n",
    "                            weights=[embedding_weights])"
   ]
  },
  {
   "cell_type": "code",
   "execution_count": 30,
   "metadata": {},
   "outputs": [],
   "source": [
    "from keras import backend as K\n",
    "\n",
    "def recall_m(y_true, y_pred):\n",
    "        true_positives = K.sum(K.round(K.clip(y_true * y_pred, 0, 1)))\n",
    "        possible_positives = K.sum(K.round(K.clip(y_true, 0, 1)))\n",
    "        recall = true_positives / (possible_positives + K.epsilon())\n",
    "        return recall\n",
    "\n",
    "def precision_m(y_true, y_pred):\n",
    "        true_positives = K.sum(K.round(K.clip(y_true * y_pred, 0, 1)))\n",
    "        predicted_positives = K.sum(K.round(K.clip(y_pred, 0, 1)))\n",
    "        precision = true_positives / (predicted_positives + K.epsilon())\n",
    "        return precision\n",
    "\n",
    "def f1_m(y_true, y_pred):\n",
    "    precision = precision_m(y_true, y_pred)\n",
    "    recall = recall_m(y_true, y_pred)\n",
    "    return 2*((precision*recall)/(precision+recall+K.epsilon()))"
   ]
  },
  {
   "cell_type": "code",
   "execution_count": 35,
   "metadata": {},
   "outputs": [
    {
     "name": "stdout",
     "output_type": "stream",
     "text": "Model: \"model_2\"\n_________________________________________________________________\nLayer (type)                 Output Shape              Param #   \n=================================================================\ninput (InputLayer)           (None, 157)               0         \n_________________________________________________________________\nembedding_1 (Embedding)      (None, 157, 17)           306       \n_________________________________________________________________\nconv1d_7 (Conv1D)            (None, 151, 256)          30720     \n_________________________________________________________________\nactivation_7 (Activation)    (None, 151, 256)          0         \n_________________________________________________________________\nmax_pooling1d_4 (MaxPooling1 (None, 50, 256)           0         \n_________________________________________________________________\nconv1d_8 (Conv1D)            (None, 44, 256)           459008    \n_________________________________________________________________\nactivation_8 (Activation)    (None, 44, 256)           0         \n_________________________________________________________________\nmax_pooling1d_5 (MaxPooling1 (None, 14, 256)           0         \n_________________________________________________________________\nconv1d_9 (Conv1D)            (None, 12, 256)           196864    \n_________________________________________________________________\nactivation_9 (Activation)    (None, 12, 256)           0         \n_________________________________________________________________\nconv1d_10 (Conv1D)           (None, 10, 256)           196864    \n_________________________________________________________________\nactivation_10 (Activation)   (None, 10, 256)           0         \n_________________________________________________________________\nconv1d_11 (Conv1D)           (None, 8, 256)            196864    \n_________________________________________________________________\nactivation_11 (Activation)   (None, 8, 256)            0         \n_________________________________________________________________\nconv1d_12 (Conv1D)           (None, 6, 256)            196864    \n_________________________________________________________________\nactivation_12 (Activation)   (None, 6, 256)            0         \n_________________________________________________________________\nmax_pooling1d_6 (MaxPooling1 (None, 2, 256)            0         \n_________________________________________________________________\nflatten_2 (Flatten)          (None, 512)               0         \n_________________________________________________________________\ndense_4 (Dense)              (None, 1024)              525312    \n_________________________________________________________________\ndropout_3 (Dropout)          (None, 1024)              0         \n_________________________________________________________________\ndense_5 (Dense)              (None, 1024)              1049600   \n_________________________________________________________________\ndropout_4 (Dropout)          (None, 1024)              0         \n_________________________________________________________________\ndense_6 (Dense)              (None, 2)                 2050      \n=================================================================\nTotal params: 2,854,452\nTrainable params: 2,854,452\nNon-trainable params: 0\n_________________________________________________________________\n"
    }
   ],
   "source": [
    "\n",
    "\n",
    "# Model Construction\n",
    "# Input\n",
    "inputs = Input(shape=(input_size,), name='input', dtype='int64')  \n",
    "# Embedding\n",
    "x = embedding_layer(inputs)\n",
    "# Conv\n",
    "for filter_num, filter_size, pooling_size in conv_layers:\n",
    "    x = Conv1D(filter_num, filter_size)(x)\n",
    "    x = Activation('relu')(x)\n",
    "    if pooling_size != -1:\n",
    "        x = MaxPooling1D(pool_size=pooling_size)(x)  # Final shape=(None, 34, 256)\n",
    "x = Flatten()(x)  # (None, 8704)\n",
    "# Fully connected layers\n",
    "for dense_size in fully_connected_layers:\n",
    "    x = Dense(dense_size, activation='relu')(x)  # dense_size == 1024\n",
    "    x = Dropout(dropout_p)(x)\n",
    "# Output Layer\n",
    "predictions = Dense(num_of_classes, activation='softmax')(x)\n",
    "# Build model\n",
    "model = Model(inputs=inputs, outputs=predictions)\n",
    "model.compile(optimizer=optimizer, loss=loss, metrics=['acc',f1_m,precision_m, recall_m])  # Adam, binary_crossentropy\n",
    "model.summary()\n",
    "\n",
    "\n",
    "\n"
   ]
  },
  {
   "cell_type": "code",
   "execution_count": 32,
   "metadata": {},
   "outputs": [],
   "source": [
    "# Shuffle\n",
    "indices = np.arange(train_data.shape[0])\n",
    "np.random.shuffle(indices)\n",
    "\n",
    "x_train = train_data[indices]\n",
    "y_train = train_classes[indices]\n",
    "\n",
    "x_test = test_data\n",
    "y_test = test_classes"
   ]
  },
  {
   "cell_type": "code",
   "execution_count": 33,
   "metadata": {},
   "outputs": [
    {
     "name": "stdout",
     "output_type": "stream",
     "text": "Train on 32497 samples, validate on 3611 samples\nEpoch 1/10\n - 47s - loss: 0.5635 - acc: 0.6973 - f1_m: 0.6973 - precision_m: 0.6973 - recall_m: 0.6973 - val_loss: 0.5329 - val_acc: 0.7150 - val_f1_m: 0.7157 - val_precision_m: 0.7157 - val_recall_m: 0.7157\nEpoch 2/10\n - 51s - loss: 0.5335 - acc: 0.7188 - f1_m: 0.7188 - precision_m: 0.7188 - recall_m: 0.7188 - val_loss: 0.5558 - val_acc: 0.7009 - val_f1_m: 0.7020 - val_precision_m: 0.7020 - val_recall_m: 0.7020\nEpoch 3/10\n - 52s - loss: 0.5249 - acc: 0.7235 - f1_m: 0.7235 - precision_m: 0.7235 - recall_m: 0.7235 - val_loss: 0.5430 - val_acc: 0.7139 - val_f1_m: 0.7167 - val_precision_m: 0.7167 - val_recall_m: 0.7167\nEpoch 4/10\n - 52s - loss: 0.5204 - acc: 0.7282 - f1_m: 0.7282 - precision_m: 0.7282 - recall_m: 0.7282 - val_loss: 0.5475 - val_acc: 0.7137 - val_f1_m: 0.7144 - val_precision_m: 0.7144 - val_recall_m: 0.7144\nEpoch 5/10\n - 50s - loss: 0.5139 - acc: 0.7318 - f1_m: 0.7317 - precision_m: 0.7317 - recall_m: 0.7317 - val_loss: 0.5392 - val_acc: 0.7200 - val_f1_m: 0.7216 - val_precision_m: 0.7216 - val_recall_m: 0.7216\nEpoch 6/10\n - 51s - loss: 0.5067 - acc: 0.7351 - f1_m: 0.7351 - precision_m: 0.7351 - recall_m: 0.7351 - val_loss: 0.5528 - val_acc: 0.7101 - val_f1_m: 0.7109 - val_precision_m: 0.7109 - val_recall_m: 0.7109\nEpoch 7/10\n - 50s - loss: 0.5002 - acc: 0.7377 - f1_m: 0.7377 - precision_m: 0.7377 - recall_m: 0.7377 - val_loss: 0.5466 - val_acc: 0.7153 - val_f1_m: 0.7170 - val_precision_m: 0.7170 - val_recall_m: 0.7170\nEpoch 8/10\n - 50s - loss: 0.4893 - acc: 0.7432 - f1_m: 0.7432 - precision_m: 0.7432 - recall_m: 0.7432 - val_loss: 0.5665 - val_acc: 0.7164 - val_f1_m: 0.7181 - val_precision_m: 0.7181 - val_recall_m: 0.7181\nEpoch 9/10\n - 52s - loss: 0.4815 - acc: 0.7471 - f1_m: 0.7471 - precision_m: 0.7471 - recall_m: 0.7471 - val_loss: 0.5817 - val_acc: 0.7161 - val_f1_m: 0.7178 - val_precision_m: 0.7178 - val_recall_m: 0.7178\nEpoch 10/10\n - 55s - loss: 0.4715 - acc: 0.7528 - f1_m: 0.7528 - precision_m: 0.7528 - recall_m: 0.7528 - val_loss: 0.5823 - val_acc: 0.7150 - val_f1_m: 0.7157 - val_precision_m: 0.7157 - val_recall_m: 0.7157\n"
    }
   ],
   "source": [
    "# Training\n",
    "history = model.fit(x_train, y_train,\n",
    "          validation_split=0.1,\n",
    "          batch_size=128,\n",
    "          epochs=10,\n",
    "          verbose=2)"
   ]
  },
  {
   "cell_type": "code",
   "execution_count": null,
   "metadata": {},
   "outputs": [],
   "source": []
  }
 ],
 "metadata": {
  "kernelspec": {
   "display_name": "Python 3.6.9 64-bit ('env': venv)",
   "language": "python",
   "name": "python36964bitenvvenvde88aacb140049cab59668ffa038508f"
  },
  "language_info": {
   "codemirror_mode": {
    "name": "ipython",
    "version": 3
   },
   "file_extension": ".py",
   "mimetype": "text/x-python",
   "name": "python",
   "nbconvert_exporter": "python",
   "pygments_lexer": "ipython3",
   "version": "3.6.9-final"
  }
 },
 "nbformat": 4,
 "nbformat_minor": 2
}