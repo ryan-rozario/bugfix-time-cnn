{
 "cells": [
  {
   "cell_type": "code",
   "execution_count": 84,
   "metadata": {},
   "outputs": [],
   "source": [
    "import pandas as pd\n",
    "import numpy as np\n",
    "import datetime\n",
    "import pickle"
   ]
  },
  {
   "cell_type": "code",
   "execution_count": 85,
   "metadata": {},
   "outputs": [],
   "source": [
    "head=[\"id\",\"date_time\",\"flag\",\"option\"]\n",
    "\n",
    "temporal_dataset = pd.read_csv(\"./../data/FTDD/temporal_activity.csv\",header=None)\n",
    "temporal_dataset.columns=head\n",
    "temporal_dataset[\"date_time\"]=pd.to_datetime(temporal_dataset[\"date_time\"])"
   ]
  },
  {
   "cell_type": "code",
   "execution_count": 86,
   "metadata": {},
   "outputs": [],
   "source": [
    "#reduce the set\n",
    "compressed_set = temporal_dataset.groupby(['id'])['flag'].apply(lambda x: \"%s\" % ''.join(x)).reset_index()\n",
    "#i have not sorted by time but it seems to have come in order"
   ]
  },
  {
   "cell_type": "code",
   "execution_count": 87,
   "metadata": {},
   "outputs": [
    {
     "output_type": "execute_result",
     "data": {
      "text/plain": "            id        flag\n0       322067        NWCZ\n1       322075          NZ\n2       322077  NAVCVVVYLZ\n3       322080      NCWCCZ\n4       322081        NCCZ\n...        ...         ...\n86437  1116604      MPQPCZ\n86438  1116618         NCZ\n86439  1116656        NCCZ\n86440  1116679       NQCQZ\n86441  1116689        NCCZ\n\n[86442 rows x 2 columns]",
      "text/html": "<div>\n<style scoped>\n    .dataframe tbody tr th:only-of-type {\n        vertical-align: middle;\n    }\n\n    .dataframe tbody tr th {\n        vertical-align: top;\n    }\n\n    .dataframe thead th {\n        text-align: right;\n    }\n</style>\n<table border=\"1\" class=\"dataframe\">\n  <thead>\n    <tr style=\"text-align: right;\">\n      <th></th>\n      <th>id</th>\n      <th>flag</th>\n    </tr>\n  </thead>\n  <tbody>\n    <tr>\n      <th>0</th>\n      <td>322067</td>\n      <td>NWCZ</td>\n    </tr>\n    <tr>\n      <th>1</th>\n      <td>322075</td>\n      <td>NZ</td>\n    </tr>\n    <tr>\n      <th>2</th>\n      <td>322077</td>\n      <td>NAVCVVVYLZ</td>\n    </tr>\n    <tr>\n      <th>3</th>\n      <td>322080</td>\n      <td>NCWCCZ</td>\n    </tr>\n    <tr>\n      <th>4</th>\n      <td>322081</td>\n      <td>NCCZ</td>\n    </tr>\n    <tr>\n      <th>...</th>\n      <td>...</td>\n      <td>...</td>\n    </tr>\n    <tr>\n      <th>86437</th>\n      <td>1116604</td>\n      <td>MPQPCZ</td>\n    </tr>\n    <tr>\n      <th>86438</th>\n      <td>1116618</td>\n      <td>NCZ</td>\n    </tr>\n    <tr>\n      <th>86439</th>\n      <td>1116656</td>\n      <td>NCCZ</td>\n    </tr>\n    <tr>\n      <th>86440</th>\n      <td>1116679</td>\n      <td>NQCQZ</td>\n    </tr>\n    <tr>\n      <th>86441</th>\n      <td>1116689</td>\n      <td>NCCZ</td>\n    </tr>\n  </tbody>\n</table>\n<p>86442 rows × 2 columns</p>\n</div>"
     },
     "metadata": {},
     "execution_count": 87
    }
   ],
   "source": [
    "compressed_set"
   ]
  },
  {
   "cell_type": "code",
   "execution_count": 88,
   "metadata": {},
   "outputs": [],
   "source": [
    "t_max = temporal_dataset.groupby(['id'])['date_time'].apply(lambda x: max(x)).reset_index()\n",
    "t_min =temporal_dataset.groupby(['id'])['date_time'].apply(lambda x: min(x)).reset_index()"
   ]
  },
  {
   "cell_type": "code",
   "execution_count": 89,
   "metadata": {},
   "outputs": [
    {
     "output_type": "execute_result",
     "data": {
      "text/plain": "       id        flag               start                 end  duration\n0  322067        NWCZ 2006-01-01 04:10:56 2007-07-04 14:35:00     549.0\n1  322077  NAVCVVVYLZ 2006-01-01 07:08:00 2006-10-31 14:56:00     303.0\n2  322080      NCWCCZ 2006-01-01 07:52:24 2009-08-26 22:06:00    1333.0\n3  322081        NCCZ 2006-01-01 07:54:33 2007-06-06 15:25:00     521.0\n4  322094         NCZ 2006-01-01 12:04:36 2006-01-02 18:59:00       1.0",
      "text/html": "<div>\n<style scoped>\n    .dataframe tbody tr th:only-of-type {\n        vertical-align: middle;\n    }\n\n    .dataframe tbody tr th {\n        vertical-align: top;\n    }\n\n    .dataframe thead th {\n        text-align: right;\n    }\n</style>\n<table border=\"1\" class=\"dataframe\">\n  <thead>\n    <tr style=\"text-align: right;\">\n      <th></th>\n      <th>id</th>\n      <th>flag</th>\n      <th>start</th>\n      <th>end</th>\n      <th>duration</th>\n    </tr>\n  </thead>\n  <tbody>\n    <tr>\n      <th>0</th>\n      <td>322067</td>\n      <td>NWCZ</td>\n      <td>2006-01-01 04:10:56</td>\n      <td>2007-07-04 14:35:00</td>\n      <td>549.0</td>\n    </tr>\n    <tr>\n      <th>1</th>\n      <td>322077</td>\n      <td>NAVCVVVYLZ</td>\n      <td>2006-01-01 07:08:00</td>\n      <td>2006-10-31 14:56:00</td>\n      <td>303.0</td>\n    </tr>\n    <tr>\n      <th>2</th>\n      <td>322080</td>\n      <td>NCWCCZ</td>\n      <td>2006-01-01 07:52:24</td>\n      <td>2009-08-26 22:06:00</td>\n      <td>1333.0</td>\n    </tr>\n    <tr>\n      <th>3</th>\n      <td>322081</td>\n      <td>NCCZ</td>\n      <td>2006-01-01 07:54:33</td>\n      <td>2007-06-06 15:25:00</td>\n      <td>521.0</td>\n    </tr>\n    <tr>\n      <th>4</th>\n      <td>322094</td>\n      <td>NCZ</td>\n      <td>2006-01-01 12:04:36</td>\n      <td>2006-01-02 18:59:00</td>\n      <td>1.0</td>\n    </tr>\n  </tbody>\n</table>\n</div>"
     },
     "metadata": {},
     "execution_count": 89
    }
   ],
   "source": [
    "compressed_set[\"start\"]=t_min[\"date_time\"]\n",
    "compressed_set[\"end\"]=t_max[\"date_time\"]\n",
    "compressed_set[\"duration\"]=(compressed_set[\"end\"]-compressed_set[\"start\"]).astype('timedelta64[D]')\n",
    "\n",
    "compressed_set.drop(compressed_set[compressed_set[\"duration\"]<1].index, inplace=True)\n",
    "compressed_set=compressed_set.reset_index(drop=True)\n",
    "\n",
    "compressed_set.head()"
   ]
  },
  {
   "cell_type": "code",
   "execution_count": 90,
   "metadata": {},
   "outputs": [
    {
     "output_type": "execute_result",
     "data": {
      "text/plain": "            id        flag               start                 end  duration  \\\n0       322067        NWCZ 2006-01-01 04:10:56 2007-07-04 14:35:00     549.0   \n1       322077  NAVCVVVYLZ 2006-01-01 07:08:00 2006-10-31 14:56:00     303.0   \n2       322080      NCWCCZ 2006-01-01 07:52:24 2009-08-26 22:06:00    1333.0   \n3       322081        NCCZ 2006-01-01 07:54:33 2007-06-06 15:25:00     521.0   \n4       322094         NCZ 2006-01-01 12:04:36 2006-01-02 18:59:00       1.0   \n...        ...         ...                 ...                 ...       ...   \n60606  1116530        NCCZ 2014-12-30 10:39:00 2015-02-05 23:13:07      37.0   \n60607  1116570         NDZ 2014-12-30 12:43:00 2015-01-05 14:50:37       6.0   \n60608  1116656        NCCZ 2014-12-30 18:39:00 2015-01-02 09:20:37       2.0   \n60609  1116679       NQCQZ 2014-12-30 19:47:00 2015-01-13 14:08:07      13.0   \n60610  1116689        NCCZ 2014-12-30 20:38:00 2015-01-11 22:22:48      12.0   \n\n       label  \n0          1  \n1          1  \n2          1  \n3          1  \n4          0  \n...      ...  \n60606      0  \n60607      0  \n60608      0  \n60609      0  \n60610      0  \n\n[60611 rows x 6 columns]",
      "text/html": "<div>\n<style scoped>\n    .dataframe tbody tr th:only-of-type {\n        vertical-align: middle;\n    }\n\n    .dataframe tbody tr th {\n        vertical-align: top;\n    }\n\n    .dataframe thead th {\n        text-align: right;\n    }\n</style>\n<table border=\"1\" class=\"dataframe\">\n  <thead>\n    <tr style=\"text-align: right;\">\n      <th></th>\n      <th>id</th>\n      <th>flag</th>\n      <th>start</th>\n      <th>end</th>\n      <th>duration</th>\n      <th>label</th>\n    </tr>\n  </thead>\n  <tbody>\n    <tr>\n      <th>0</th>\n      <td>322067</td>\n      <td>NWCZ</td>\n      <td>2006-01-01 04:10:56</td>\n      <td>2007-07-04 14:35:00</td>\n      <td>549.0</td>\n      <td>1</td>\n    </tr>\n    <tr>\n      <th>1</th>\n      <td>322077</td>\n      <td>NAVCVVVYLZ</td>\n      <td>2006-01-01 07:08:00</td>\n      <td>2006-10-31 14:56:00</td>\n      <td>303.0</td>\n      <td>1</td>\n    </tr>\n    <tr>\n      <th>2</th>\n      <td>322080</td>\n      <td>NCWCCZ</td>\n      <td>2006-01-01 07:52:24</td>\n      <td>2009-08-26 22:06:00</td>\n      <td>1333.0</td>\n      <td>1</td>\n    </tr>\n    <tr>\n      <th>3</th>\n      <td>322081</td>\n      <td>NCCZ</td>\n      <td>2006-01-01 07:54:33</td>\n      <td>2007-06-06 15:25:00</td>\n      <td>521.0</td>\n      <td>1</td>\n    </tr>\n    <tr>\n      <th>4</th>\n      <td>322094</td>\n      <td>NCZ</td>\n      <td>2006-01-01 12:04:36</td>\n      <td>2006-01-02 18:59:00</td>\n      <td>1.0</td>\n      <td>0</td>\n    </tr>\n    <tr>\n      <th>...</th>\n      <td>...</td>\n      <td>...</td>\n      <td>...</td>\n      <td>...</td>\n      <td>...</td>\n      <td>...</td>\n    </tr>\n    <tr>\n      <th>60606</th>\n      <td>1116530</td>\n      <td>NCCZ</td>\n      <td>2014-12-30 10:39:00</td>\n      <td>2015-02-05 23:13:07</td>\n      <td>37.0</td>\n      <td>0</td>\n    </tr>\n    <tr>\n      <th>60607</th>\n      <td>1116570</td>\n      <td>NDZ</td>\n      <td>2014-12-30 12:43:00</td>\n      <td>2015-01-05 14:50:37</td>\n      <td>6.0</td>\n      <td>0</td>\n    </tr>\n    <tr>\n      <th>60608</th>\n      <td>1116656</td>\n      <td>NCCZ</td>\n      <td>2014-12-30 18:39:00</td>\n      <td>2015-01-02 09:20:37</td>\n      <td>2.0</td>\n      <td>0</td>\n    </tr>\n    <tr>\n      <th>60609</th>\n      <td>1116679</td>\n      <td>NQCQZ</td>\n      <td>2014-12-30 19:47:00</td>\n      <td>2015-01-13 14:08:07</td>\n      <td>13.0</td>\n      <td>0</td>\n    </tr>\n    <tr>\n      <th>60610</th>\n      <td>1116689</td>\n      <td>NCCZ</td>\n      <td>2014-12-30 20:38:00</td>\n      <td>2015-01-11 22:22:48</td>\n      <td>12.0</td>\n      <td>0</td>\n    </tr>\n  </tbody>\n</table>\n<p>60611 rows × 6 columns</p>\n</div>"
     },
     "metadata": {},
     "execution_count": 90
    }
   ],
   "source": [
    "compressed_set[\"label\"]=(compressed_set[\"duration\"]>60)\n",
    "compressed_set[\"label\"]=compressed_set[\"label\"].apply(lambda x: 0 if x==False else 1)\n",
    "compressed_set"
   ]
  },
  {
   "cell_type": "code",
   "execution_count": 91,
   "metadata": {},
   "outputs": [],
   "source": [
    "msk = np.random.rand(len(compressed_set)) < 0.6\n",
    "train_df = compressed_set[msk]\n",
    "test_df = compressed_set[~msk]"
   ]
  },
  {
   "cell_type": "code",
   "execution_count": 92,
   "metadata": {},
   "outputs": [],
   "source": [
    "'''\n",
    "train_data_source = '../data/ag_news_csv/train.csv'\n",
    "test_data_source = '../data/ag_news_csv/test.csv'\n",
    "\n",
    "train_df = pd.read_csv(train_data_source, header=None)\n",
    "test_df = pd.read_csv(test_data_source, header=None)\n",
    "\n",
    "# concatenate column 1 and column 2 as one text\n",
    "for df in [train_df, test_df]:\n",
    "    df[1] = df[1] + df[2]\n",
    "    df = df.drop([2], axis=1)\n",
    "'''    \n",
    "# convert string to lower case \n",
    "train_texts = train_df[\"flag\"].values \n",
    "train_texts = [s.lower() for s in train_texts] \n",
    "\n",
    "test_texts = test_df[\"flag\"].values \n",
    "test_texts = [s.lower() for s in test_texts] \n",
    "\n",
    "test_texts = list(map(lambda x: x[:7] ,test_texts))\n",
    ""
   ]
  },
  {
   "cell_type": "code",
   "execution_count": 93,
   "metadata": {},
   "outputs": [],
   "source": [
    "from keras.preprocessing.text import Tokenizer\n",
    "from keras.preprocessing.sequence import pad_sequences"
   ]
  },
  {
   "cell_type": "code",
   "execution_count": 94,
   "metadata": {},
   "outputs": [],
   "source": [
    "\n",
    "\n",
    "# Tokenizer\n",
    "tk = Tokenizer(char_level=True)\n",
    "tk.fit_on_texts(train_texts)\n",
    "# If we already have a character list, then replace the tk.word_index"
   ]
  },
  {
   "cell_type": "code",
   "execution_count": 95,
   "metadata": {},
   "outputs": [],
   "source": [
    "alphabet=\"nmearcdvyshfwlpqz\"\n",
    "char_dict = {}\n",
    "for i, char in enumerate(alphabet):\n",
    "    char_dict[char] = i + 1\n",
    "    \n",
    "tk.word_index = char_dict.copy() \n",
    "\n",
    "train_sequences = tk.texts_to_sequences(train_texts)\n",
    "test_texts = tk.texts_to_sequences(test_texts)"
   ]
  },
  {
   "cell_type": "code",
   "execution_count": 96,
   "metadata": {},
   "outputs": [],
   "source": [
    "\n",
    "\n",
    "# Padding\n",
    "train_data = pad_sequences(train_sequences, padding='post')\n",
    "test_data = pad_sequences(test_texts,maxlen=train_data.shape[1], padding='post')\n",
    "\n",
    "# Convert to numpy array\n",
    "train_data = np.array(train_data, dtype='float32')\n",
    "test_data = np.array(test_data, dtype='float32')\n",
    "\n",
    ""
   ]
  },
  {
   "cell_type": "code",
   "execution_count": 97,
   "metadata": {},
   "outputs": [],
   "source": [
    "#=======================Get classes================\n",
    "train_classes = train_df[\"label\"].values\n",
    "\n",
    "test_classes = test_df[\"label\"].values\n",
    "\n",
    "train_classes_copy = train_df[\"label\"].values\n",
    "test_classes_copy = test_df[\"label\"].values\n",
    "\n",
    "from keras.utils import to_categorical\n",
    "train_classes = to_categorical(train_classes)\n",
    "test_classes = to_categorical(test_classes)"
   ]
  },
  {
   "cell_type": "code",
   "execution_count": 100,
   "metadata": {},
   "outputs": [
    {
     "output_type": "execute_result",
     "data": {
      "text/plain": "17"
     },
     "metadata": {},
     "execution_count": 100
    }
   ],
   "source": [
    "vocab_size = len(tk.word_index)\n",
    "vocab_size"
   ]
  },
  {
   "cell_type": "code",
   "execution_count": 101,
   "metadata": {},
   "outputs": [],
   "source": [
    "from keras.layers import Input, Embedding, Activation, Flatten, Dense\n",
    "from keras.layers import Conv1D, MaxPooling1D, Dropout\n",
    "from keras.models import Model"
   ]
  },
  {
   "cell_type": "code",
   "execution_count": 102,
   "metadata": {},
   "outputs": [
    {
     "output_type": "execute_result",
     "data": {
      "text/plain": "(24413, 157)"
     },
     "metadata": {},
     "execution_count": 102
    }
   ],
   "source": [
    "test_data.shape"
   ]
  },
  {
   "cell_type": "code",
   "execution_count": 103,
   "metadata": {},
   "outputs": [],
   "source": [
    "# =====================Char CNN in whole dataset=======================\n",
    "# parameter\n",
    "input_size = test_data.shape[1]\n",
    "vocab_size = len(tk.word_index)\n",
    "embedding_size = vocab_size\n",
    "conv_layers = [[256, 7, 3],\n",
    "               [256, 7, 3],\n",
    "               [256, 3, -1],\n",
    "               [256, 3, -1],\n",
    "               [256, 3, -1],\n",
    "               [256, 3, 3]]\n",
    "\n",
    "fully_connected_layers = [1024, 1024]\n",
    "num_of_classes = 2\n",
    "dropout_p = 0.5\n",
    "optimizer = 'adam'\n",
    "loss = 'binary_crossentropy'\n",
    ""
   ]
  },
  {
   "cell_type": "code",
   "execution_count": 104,
   "metadata": {},
   "outputs": [],
   "source": [
    "\n",
    "# Embedding weights\n",
    "embedding_weights = []\n",
    "embedding_weights.append(np.zeros(vocab_size)) \n",
    "\n",
    "for char, i in tk.word_index.items(): \n",
    "    onehot = np.zeros(vocab_size)\n",
    "    onehot[i - 1] = 1\n",
    "    embedding_weights.append(onehot)\n",
    "\n",
    "embedding_weights = np.array(embedding_weights)\n",
    "\n",
    ""
   ]
  },
  {
   "cell_type": "code",
   "execution_count": 105,
   "metadata": {},
   "outputs": [],
   "source": [
    "# Embedding layer Initialization\n",
    "embedding_layer = Embedding(vocab_size + 1,\n",
    "                            embedding_size,\n",
    "                            input_length=input_size,\n",
    "                            weights=[embedding_weights])"
   ]
  },
  {
   "cell_type": "code",
   "execution_count": 106,
   "metadata": {},
   "outputs": [],
   "source": [
    "from keras import backend as K\n",
    "\n",
    "def recall_m(y_true, y_pred):\n",
    "        true_positives = K.sum(K.round(K.clip(y_true * y_pred, 0, 1)))\n",
    "        possible_positives = K.sum(K.round(K.clip(y_true, 0, 1)))\n",
    "        recall = true_positives / (possible_positives + K.epsilon())\n",
    "        return recall\n",
    "\n",
    "def precision_m(y_true, y_pred):\n",
    "        true_positives = K.sum(K.round(K.clip(y_true * y_pred, 0, 1)))\n",
    "        predicted_positives = K.sum(K.round(K.clip(y_pred, 0, 1)))\n",
    "        precision = true_positives / (predicted_positives + K.epsilon())\n",
    "        return precision\n",
    "\n",
    "def f1_m(y_true, y_pred):\n",
    "    precision = precision_m(y_true, y_pred)\n",
    "    recall = recall_m(y_true, y_pred)\n",
    "    return 2*((precision*recall)/(precision+recall+K.epsilon()))"
   ]
  },
  {
   "cell_type": "code",
   "execution_count": 107,
   "metadata": {},
   "outputs": [],
   "source": [
    "\n",
    "\n",
    "# Model Construction\n",
    "# Input\n",
    "inputs = Input(shape=(input_size,), name='input', dtype='int64')  \n",
    "# Embedding\n",
    "x = embedding_layer(inputs)\n",
    "# Conv\n",
    "for filter_num, filter_size, pooling_size in conv_layers:\n",
    "    x = Conv1D(filter_num, filter_size)(x)\n",
    "    x = Activation('relu')(x)\n",
    "    if pooling_size != -1:\n",
    "        x = MaxPooling1D(pool_size=pooling_size)(x)  # Final shape=(None, 34, 256)\n",
    "x = Flatten()(x)  # (None, 8704)\n",
    "# Fully connected layers\n",
    "for dense_size in fully_connected_layers:\n",
    "    x = Dense(dense_size, activation='relu')(x)  # dense_size == 1024\n",
    "    x = Dropout(dropout_p)(x)\n",
    "# Output Layer\n",
    "predictions = Dense(num_of_classes, activation='softmax')(x)\n",
    "# Build model\n",
    "model = Model(inputs=inputs, outputs=predictions)\n",
    "model.compile(optimizer=optimizer, loss=loss, metrics=['acc',f1_m,precision_m, recall_m])  # Adam, binary_crossentropy\n",
    "\n",
    "\n",
    "\n",
    ""
   ]
  },
  {
   "cell_type": "code",
   "execution_count": 108,
   "metadata": {},
   "outputs": [],
   "source": [
    "# Shuffle\n",
    "indices = np.arange(train_data.shape[0])\n",
    "np.random.shuffle(indices)\n",
    "\n",
    "x_train = train_data[indices]\n",
    "y_train = train_classes[indices]\n",
    "\n",
    "x_test = test_data\n",
    "y_test = test_classes"
   ]
  },
  {
   "cell_type": "code",
   "execution_count": 109,
   "metadata": {},
   "outputs": [
    {
     "output_type": "stream",
     "name": "stderr",
     "text": "/home/ryan/ml/env/lib/python3.6/site-packages/tensorflow_core/python/framework/indexed_slices.py:433: UserWarning: Converting sparse IndexedSlices to a dense Tensor of unknown shape. This may consume a large amount of memory.\n  \"Converting sparse IndexedSlices to a dense Tensor of unknown shape. \"\nTrain on 32578 samples, validate on 3620 samples\nEpoch 1/10\n - 47s - loss: 0.5676 - acc: 0.6991 - f1_m: 0.6991 - precision_m: 0.6991 - recall_m: 0.6991 - val_loss: 0.5346 - val_acc: 0.7243 - val_f1_m: 0.7256 - val_precision_m: 0.7256 - val_recall_m: 0.7256\nEpoch 2/10\n - 51s - loss: 0.5396 - acc: 0.7182 - f1_m: 0.7182 - precision_m: 0.7182 - recall_m: 0.7182 - val_loss: 0.5262 - val_acc: 0.7251 - val_f1_m: 0.7264 - val_precision_m: 0.7264 - val_recall_m: 0.7264\nEpoch 3/10\n - 51s - loss: 0.5309 - acc: 0.7236 - f1_m: 0.7236 - precision_m: 0.7236 - recall_m: 0.7236 - val_loss: 0.5302 - val_acc: 0.7243 - val_f1_m: 0.7256 - val_precision_m: 0.7256 - val_recall_m: 0.7256\nEpoch 4/10\n - 51s - loss: 0.5242 - acc: 0.7252 - f1_m: 0.7253 - precision_m: 0.7253 - recall_m: 0.7253 - val_loss: 0.5375 - val_acc: 0.7202 - val_f1_m: 0.7209 - val_precision_m: 0.7209 - val_recall_m: 0.7209\nEpoch 5/10\n - 51s - loss: 0.5202 - acc: 0.7282 - f1_m: 0.7281 - precision_m: 0.7281 - recall_m: 0.7281 - val_loss: 0.5298 - val_acc: 0.7262 - val_f1_m: 0.7268 - val_precision_m: 0.7268 - val_recall_m: 0.7268\nEpoch 6/10\n - 51s - loss: 0.5116 - acc: 0.7332 - f1_m: 0.7331 - precision_m: 0.7331 - recall_m: 0.7331 - val_loss: 0.5282 - val_acc: 0.7210 - val_f1_m: 0.7217 - val_precision_m: 0.7217 - val_recall_m: 0.7217\nEpoch 7/10\n - 50s - loss: 0.5065 - acc: 0.7353 - f1_m: 0.7353 - precision_m: 0.7353 - recall_m: 0.7353 - val_loss: 0.5349 - val_acc: 0.7271 - val_f1_m: 0.7263 - val_precision_m: 0.7263 - val_recall_m: 0.7263\nEpoch 8/10\n - 51s - loss: 0.4985 - acc: 0.7413 - f1_m: 0.7412 - precision_m: 0.7412 - recall_m: 0.7412 - val_loss: 0.5501 - val_acc: 0.7193 - val_f1_m: 0.7208 - val_precision_m: 0.7208 - val_recall_m: 0.7208\nEpoch 9/10\n - 50s - loss: 0.4874 - acc: 0.7460 - f1_m: 0.7461 - precision_m: 0.7461 - recall_m: 0.7461 - val_loss: 0.5612 - val_acc: 0.7196 - val_f1_m: 0.7190 - val_precision_m: 0.7190 - val_recall_m: 0.7190\nEpoch 10/10\n - 50s - loss: 0.4778 - acc: 0.7496 - f1_m: 0.7495 - precision_m: 0.7495 - recall_m: 0.7495 - val_loss: 0.5989 - val_acc: 0.7122 - val_f1_m: 0.7131 - val_precision_m: 0.7131 - val_recall_m: 0.7131\n"
    }
   ],
   "source": [
    "# Training\n",
    "history = model.fit(x_train, y_train,\n",
    "          validation_split=0.1,\n",
    "          batch_size=128,\n",
    "          epochs=10,\n",
    "          verbose=2)"
   ]
  },
  {
   "cell_type": "code",
   "execution_count": 110,
   "metadata": {},
   "outputs": [
    {
     "output_type": "stream",
     "name": "stdout",
     "text": "24413/24413 [==============================] - 9s 354us/step\n"
    },
    {
     "output_type": "execute_result",
     "data": {
      "text/plain": "[0.5692659644791882,\n 0.6985212564468384,\n 0.6988450288772583,\n 0.6988450884819031,\n 0.6988450884819031]"
     },
     "metadata": {},
     "execution_count": 110
    }
   ],
   "source": [
    "model.evaluate(x_test, y_test, batch_size=128)"
   ]
  },
  {
   "cell_type": "code",
   "execution_count": 111,
   "metadata": {},
   "outputs": [],
   "source": [
    "from sklearn.metrics import classification_report\n",
    ""
   ]
  },
  {
   "cell_type": "code",
   "execution_count": 119,
   "metadata": {},
   "outputs": [
    {
     "output_type": "stream",
     "name": "stdout",
     "text": "24413/24413 [==============================] - 8s 320us/step\n"
    }
   ],
   "source": [
    "y_pred = model.predict(x_test, batch_size=128, verbose=1)\n",
    "y_pred_bool = np.argmax(y_pred, axis=1)\n",
    "rep = classification_report(test_classes_copy, y_pred_bool,digits=4)\n",
    ""
   ]
  },
  {
   "cell_type": "code",
   "execution_count": 120,
   "metadata": {},
   "outputs": [
    {
     "output_type": "stream",
     "name": "stdout",
     "text": "precision    recall  f1-score   support\n\n           0     0.6397    0.8974    0.7470     12106\n           1     0.8329    0.5029    0.6271     12307\n\n    accuracy                         0.6985     24413\n   macro avg     0.7363    0.7001    0.6870     24413\nweighted avg     0.7371    0.6985    0.6866     24413\n\n"
    }
   ],
   "source": [
    "print(rep)"
   ]
  },
  {
   "cell_type": "code",
   "execution_count": null,
   "metadata": {},
   "outputs": [],
   "source": []
  }
 ],
 "metadata": {
  "kernelspec": {
   "display_name": "Python 3.6.9 64-bit ('env': venv)",
   "language": "python",
   "name": "python36964bitenvvenvde88aacb140049cab59668ffa038508f"
  },
  "language_info": {
   "codemirror_mode": {
    "name": "ipython",
    "version": 3
   },
   "file_extension": ".py",
   "mimetype": "text/x-python",
   "name": "python",
   "nbconvert_exporter": "python",
   "pygments_lexer": "ipython3",
   "version": "3.6.9-final"
  }
 },
 "nbformat": 4,
 "nbformat_minor": 2
}