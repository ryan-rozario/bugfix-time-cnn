{
 "nbformat": 4,
 "nbformat_minor": 2,
 "metadata": {
  "language_info": {
   "name": "python",
   "codemirror_mode": {
    "name": "ipython",
    "version": 3
   },
   "version": "3.6.9-final"
  },
  "orig_nbformat": 2,
  "file_extension": ".py",
  "mimetype": "text/x-python",
  "name": "python",
  "npconvert_exporter": "python",
  "pygments_lexer": "ipython3",
  "version": 3,
  "kernelspec": {
   "name": "python36964bit2c488aece8b54325bf9de11e77a9e3a5",
   "display_name": "Python 3.6.9 64-bit"
  }
 },
 "cells": [
  {
   "cell_type": "code",
   "execution_count": 1,
   "metadata": {},
   "outputs": [],
   "source": [
    "import pandas as pd\n",
    "import numpy as np\n",
    "import datetime\n",
    "import pickle"
   ]
  },
  {
   "cell_type": "code",
   "execution_count": 2,
   "metadata": {},
   "outputs": [],
   "source": [
    "test_short= pd.read_pickle(\"./../data/processed/test_short.pkl\")\n",
    "test_long= pd.read_pickle(\"./../data/processed/test_long.pkl\")"
   ]
  },
  {
   "cell_type": "code",
   "execution_count": 3,
   "metadata": {},
   "outputs": [],
   "source": [
    "#len(compressed_set.flag)\n",
    "len_sequence_long_test=[len(xi) for xi in test_long.flag]\n",
    "sequence_long_test=[[[int(x)] for x in xi]  for xi in test_long.flag]\n",
    "\n",
    "\n",
    "#len(compressed_set.flag)\n",
    "len_sequence_short_test=[len(xi) for xi in test_short.flag]\n",
    "sequence_short_test=[[[int(x)] for x in xi]  for xi in test_short.flag]\n"
   ]
  },
  {
   "cell_type": "code",
   "execution_count": 4,
   "metadata": {},
   "outputs": [],
   "source": [
    "from evaluation import activity_number_testing"
   ]
  },
  {
   "cell_type": "code",
   "execution_count": 5,
   "metadata": {},
   "outputs": [],
   "source": [
    "fixed_length_temporal_sequence_result=pd.DataFrame([],columns=[\"Number of Activities\",\"Number of States\",\"Precision\",\"Recall\",\"F-measure\",\"Accuracy\"])\n",
    "columns = list(fixed_length_temporal_sequence_result)\n",
    "data = []"
   ]
  },
  {
   "cell_type": "code",
   "execution_count": 12,
   "metadata": {},
   "outputs": [
    {
     "name": "stdout",
     "output_type": "stream",
     "text": "{'Number of Activities': 2, 'Number of States': 5, 'Precision': 0.5800410626516518, 'Recall': 0.7697960531747998, 'F-measure': 0.661581038887312, 'Accuracy': 0.6058351929911563}\n{'Number of Activities': 3, 'Number of States': 5, 'Precision': 0.5868084597920898, 'Recall': 0.8109982660391379, 'F-measure': 0.680924815418212, 'Accuracy': 0.6195966608810646}\n"
    }
   ],
   "source": [
    "for n_states in [5]:\n",
    "\n",
    "\n",
    "    fname=\"./models/hmm_long_\"+str(n_states)+\".pkl\"\n",
    "    with open(fname, 'rb') as input:\n",
    "        hmm_long = pickle.load(input)\n",
    "    fname=\"./models/hmm_short_\"+str(n_states)+\".pkl\"\n",
    "    with open(fname, 'rb') as input:\n",
    "        hmm_short = pickle.load(input)\n",
    "\n",
    "\n",
    "    for n_activities in range(2,4):\n",
    "        tp,tn,fn,fp=activity_number_testing(sequence_short_test,sequence_long_test,hmm_short,hmm_long,n_activities)\n",
    "        precision=tp/(tp+fp)\n",
    "        recall=tp/(tp+fn)\n",
    "        accuracy=(tp+tn)/(tp+tn+fn+fp)\n",
    "        f1 = (2*precision*recall)/(precision+recall)\n",
    "        values =[n_activities,n_states,precision,recall,f1,accuracy]\n",
    "        zipped = zip(columns, values)\n",
    "        a_dictionary = dict(zipped)\n",
    "        print(a_dictionary)\n",
    "        data.append(a_dictionary)\n",
    "\n",
    "fixed_length_temporal_sequence_result = fixed_length_temporal_sequence_result.append(data,True)"
   ]
  },
  {
   "cell_type": "code",
   "execution_count": 7,
   "metadata": {},
   "outputs": [
    {
     "data": {
      "text/html": "<div>\n<style scoped>\n    .dataframe tbody tr th:only-of-type {\n        vertical-align: middle;\n    }\n\n    .dataframe tbody tr th {\n        vertical-align: top;\n    }\n\n    .dataframe thead th {\n        text-align: right;\n    }\n</style>\n<table border=\"1\" class=\"dataframe\">\n  <thead>\n    <tr style=\"text-align: right;\">\n      <th></th>\n      <th>Number of Activities</th>\n      <th>Number of States</th>\n      <th>Precision</th>\n      <th>Recall</th>\n      <th>F-measure</th>\n      <th>Accuracy</th>\n    </tr>\n  </thead>\n  <tbody>\n    <tr>\n      <th>0</th>\n      <td>2</td>\n      <td>5</td>\n      <td>0.577172</td>\n      <td>0.809296</td>\n      <td>0.673803</td>\n      <td>0.605984</td>\n    </tr>\n    <tr>\n      <th>1</th>\n      <td>3</td>\n      <td>5</td>\n      <td>0.574977</td>\n      <td>0.883221</td>\n      <td>0.696520</td>\n      <td>0.612987</td>\n    </tr>\n    <tr>\n      <th>2</th>\n      <td>4</td>\n      <td>5</td>\n      <td>0.581547</td>\n      <td>0.876298</td>\n      <td>0.699126</td>\n      <td>0.620737</td>\n    </tr>\n    <tr>\n      <th>3</th>\n      <td>5</td>\n      <td>5</td>\n      <td>0.587597</td>\n      <td>0.879265</td>\n      <td>0.704434</td>\n      <td>0.628983</td>\n    </tr>\n    <tr>\n      <th>4</th>\n      <td>6</td>\n      <td>5</td>\n      <td>0.591073</td>\n      <td>0.877452</td>\n      <td>0.706339</td>\n      <td>0.633128</td>\n    </tr>\n    <tr>\n      <th>5</th>\n      <td>2</td>\n      <td>10</td>\n      <td>0.591925</td>\n      <td>0.679001</td>\n      <td>0.632480</td>\n      <td>0.603207</td>\n    </tr>\n    <tr>\n      <th>6</th>\n      <td>3</td>\n      <td>10</td>\n      <td>0.600340</td>\n      <td>0.786468</td>\n      <td>0.680913</td>\n      <td>0.629356</td>\n    </tr>\n    <tr>\n      <th>7</th>\n      <td>4</td>\n      <td>10</td>\n      <td>0.602031</td>\n      <td>0.835421</td>\n      <td>0.699779</td>\n      <td>0.639551</td>\n    </tr>\n    <tr>\n      <th>8</th>\n      <td>5</td>\n      <td>10</td>\n      <td>0.607669</td>\n      <td>0.835833</td>\n      <td>0.703719</td>\n      <td>0.646098</td>\n    </tr>\n    <tr>\n      <th>9</th>\n      <td>6</td>\n      <td>10</td>\n      <td>0.611201</td>\n      <td>0.840036</td>\n      <td>0.707577</td>\n      <td>0.650864</td>\n    </tr>\n    <tr>\n      <th>10</th>\n      <td>2</td>\n      <td>15</td>\n      <td>0.606449</td>\n      <td>0.647931</td>\n      <td>0.626504</td>\n      <td>0.611537</td>\n    </tr>\n    <tr>\n      <th>11</th>\n      <td>3</td>\n      <td>15</td>\n      <td>0.617370</td>\n      <td>0.741058</td>\n      <td>0.673583</td>\n      <td>0.638846</td>\n    </tr>\n    <tr>\n      <th>12</th>\n      <td>4</td>\n      <td>15</td>\n      <td>0.623791</td>\n      <td>0.749382</td>\n      <td>0.680843</td>\n      <td>0.646720</td>\n    </tr>\n    <tr>\n      <th>13</th>\n      <td>5</td>\n      <td>15</td>\n      <td>0.626210</td>\n      <td>0.773034</td>\n      <td>0.691919</td>\n      <td>0.653848</td>\n    </tr>\n    <tr>\n      <th>14</th>\n      <td>6</td>\n      <td>15</td>\n      <td>0.630348</td>\n      <td>0.784325</td>\n      <td>0.698957</td>\n      <td>0.660271</td>\n    </tr>\n  </tbody>\n</table>\n</div>",
      "text/plain": "   Number of Activities Number of States  Precision    Recall  F-measure  \\\n0                     2                5   0.577172  0.809296   0.673803   \n1                     3                5   0.574977  0.883221   0.696520   \n2                     4                5   0.581547  0.876298   0.699126   \n3                     5                5   0.587597  0.879265   0.704434   \n4                     6                5   0.591073  0.877452   0.706339   \n5                     2               10   0.591925  0.679001   0.632480   \n6                     3               10   0.600340  0.786468   0.680913   \n7                     4               10   0.602031  0.835421   0.699779   \n8                     5               10   0.607669  0.835833   0.703719   \n9                     6               10   0.611201  0.840036   0.707577   \n10                    2               15   0.606449  0.647931   0.626504   \n11                    3               15   0.617370  0.741058   0.673583   \n12                    4               15   0.623791  0.749382   0.680843   \n13                    5               15   0.626210  0.773034   0.691919   \n14                    6               15   0.630348  0.784325   0.698957   \n\n    Accuracy  \n0   0.605984  \n1   0.612987  \n2   0.620737  \n3   0.628983  \n4   0.633128  \n5   0.603207  \n6   0.629356  \n7   0.639551  \n8   0.646098  \n9   0.650864  \n10  0.611537  \n11  0.638846  \n12  0.646720  \n13  0.653848  \n14  0.660271  "
     },
     "execution_count": 7,
     "metadata": {},
     "output_type": "execute_result"
    }
   ],
   "source": [
    "fixed_length_temporal_sequence_result"
   ]
  },
  {
   "cell_type": "code",
   "execution_count": null,
   "metadata": {},
   "outputs": [],
   "source": []
  }
 ]
}