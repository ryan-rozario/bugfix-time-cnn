{
 "nbformat": 4,
 "nbformat_minor": 2,
 "metadata": {
  "language_info": {
   "name": "python",
   "codemirror_mode": {
    "name": "ipython",
    "version": 3
   },
   "version": "3.6.9-final"
  },
  "orig_nbformat": 2,
  "file_extension": ".py",
  "mimetype": "text/x-python",
  "name": "python",
  "npconvert_exporter": "python",
  "pygments_lexer": "ipython3",
  "version": 3,
  "kernelspec": {
   "name": "python36964bit2c488aece8b54325bf9de11e77a9e3a5",
   "display_name": "Python 3.6.9 64-bit"
  }
 },
 "cells": [
  {
   "cell_type": "code",
   "execution_count": 24,
   "metadata": {},
   "outputs": [],
   "source": [
    "import pandas as pd\n",
    "import numpy as np\n",
    "import datetime\n",
    "import pickle"
   ]
  },
  {
   "cell_type": "code",
   "execution_count": 25,
   "metadata": {},
   "outputs": [],
   "source": [
    "test_short= pd.read_pickle(\"./../data/processed/test_short.pkl\")\n",
    "test_long= pd.read_pickle(\"./../data/processed/test_long.pkl\")"
   ]
  },
  {
   "cell_type": "code",
   "execution_count": 27,
   "metadata": {},
   "outputs": [],
   "source": [
    "head=[\"id\",\"date_time\",\"flag\",\"option\"]\n",
    "\n",
    "temporal_dataset = pd.read_csv(\"./../data/FTDD/temporal_activity.csv\",header=None)\n",
    "temporal_dataset.columns=head\n",
    "temporal_dataset[\"date_time\"]=pd.to_datetime(temporal_dataset[\"date_time\"])"
   ]
  },
  {
   "cell_type": "code",
   "execution_count": 28,
   "metadata": {},
   "outputs": [
    {
     "data": {
      "text/html": "<div>\n<style scoped>\n    .dataframe tbody tr th:only-of-type {\n        vertical-align: middle;\n    }\n\n    .dataframe tbody tr th {\n        vertical-align: top;\n    }\n\n    .dataframe thead th {\n        text-align: right;\n    }\n</style>\n<table border=\"1\" class=\"dataframe\">\n  <thead>\n    <tr style=\"text-align: right;\">\n      <th></th>\n      <th>id</th>\n      <th>date_time</th>\n      <th>flag</th>\n      <th>option</th>\n    </tr>\n  </thead>\n  <tbody>\n    <tr>\n      <th>0</th>\n      <td>322067</td>\n      <td>2006-01-01 04:10:56</td>\n      <td>N</td>\n      <td>0</td>\n    </tr>\n    <tr>\n      <th>1</th>\n      <td>322067</td>\n      <td>2007-06-06 15:24:00</td>\n      <td>W</td>\n      <td>521</td>\n    </tr>\n    <tr>\n      <th>2</th>\n      <td>322067</td>\n      <td>2007-06-06 15:24:00</td>\n      <td>C</td>\n      <td>521</td>\n    </tr>\n    <tr>\n      <th>3</th>\n      <td>322067</td>\n      <td>2007-07-04 14:35:00</td>\n      <td>Z</td>\n      <td>549</td>\n    </tr>\n    <tr>\n      <th>4</th>\n      <td>322075</td>\n      <td>2006-01-01 06:08:45</td>\n      <td>N</td>\n      <td>0</td>\n    </tr>\n  </tbody>\n</table>\n</div>",
      "text/plain": "       id           date_time flag  option\n0  322067 2006-01-01 04:10:56    N       0\n1  322067 2007-06-06 15:24:00    W     521\n2  322067 2007-06-06 15:24:00    C     521\n3  322067 2007-07-04 14:35:00    Z     549\n4  322075 2006-01-01 06:08:45    N       0"
     },
     "execution_count": 28,
     "metadata": {},
     "output_type": "execute_result"
    }
   ],
   "source": [
    "temporal_dataset.head()"
   ]
  },
  {
   "cell_type": "code",
   "execution_count": 29,
   "metadata": {},
   "outputs": [],
   "source": [
    "observation_dict = {'N':0,'M':1,'E':2,'A':3,'R':4,'C':5,'D':6,'V':7,'Y':8,'S':9,'H':10,'F':11,'W':12,'L':13,'P':14,'Q':15,'Z':16}\n",
    "\n",
    "\n",
    "            "
   ]
  },
  {
   "cell_type": "code",
   "execution_count": 30,
   "metadata": {},
   "outputs": [],
   "source": [
    "for n_days in [1,4,8]:\n",
    "\n",
    "    test_short[\"day\"+str(n_days)] = \"\"\n",
    "\n",
    "    for index, row in temporal_dataset.iterrows():\n",
    "        start_temp = test_short.loc[test_short['id'] == row[\"id\"], 'start']\n",
    "        if len(start_temp)!=0:\n",
    "            if ((row[\"date_time\"]-start_temp.iloc[0]).days) < n_days:\n",
    "                test_short.loc[test_short['id'] == row[\"id\"], \"day\"+str(n_days) ]+= row[\"flag\"] + \" \"\n",
    "\n",
    "    test_long[\"day\"+str(n_days)] = \"\"\n",
    "\n",
    "    for index, row in temporal_dataset.iterrows():\n",
    "        start_temp = test_long.loc[test_long['id'] == row[\"id\"], 'start']\n",
    "        if len(start_temp)!=0:\n",
    "            if ((row[\"date_time\"]-start_temp.iloc[0]).days) < n_days:\n",
    "                test_long.loc[test_long['id'] == row[\"id\"], \"day\"+str(n_days) ]+= row[\"flag\"] + \" \"\n",
    "\n",
    "\n",
    "    test_long[\"day\"+str(n_days)] = test_long[\"day\"+str(n_days)].apply(lambda x: x.strip().split())\n",
    "    test_long[\"day\"+str(n_days)] = test_long[\"day\"+str(n_days)].apply(lambda x: list(map(lambda y: int(observation_dict[y]),x)) )\n",
    "\n",
    "\n",
    "    test_short[\"day\"+str(n_days)] = test_short[\"day\"+str(n_days)].apply(lambda x: x.strip().split())\n",
    "    test_short[\"day\"+str(n_days)] = test_short[\"day\"+str(n_days)].apply(lambda x: list(map(lambda y: int(observation_dict[y]),x)) )\n",
    "\n",
    "\n",
    "            "
   ]
  },
  {
   "cell_type": "code",
   "execution_count": 31,
   "metadata": {},
   "outputs": [],
   "source": [
    "test_long.to_pickle(\"./../data/processed/test_long_temp1.pkl\")\n",
    "test_short.to_pickle(\"./../data/processed/test_short_temp1.pkl\")"
   ]
  },
  {
   "cell_type": "code",
   "execution_count": 32,
   "metadata": {},
   "outputs": [],
   "source": [
    "test_short= pd.read_pickle(\"./../data/processed/test_short_temp1.pkl\")\n",
    "test_long= pd.read_pickle(\"./../data/processed/test_long_temp1.pkl\")"
   ]
  },
  {
   "cell_type": "code",
   "execution_count": 33,
   "metadata": {},
   "outputs": [],
   "source": [
    "#len(compressed_set.flag)\n",
    "len_sequence_long_test=[len(xi) for xi in test_long.day1]\n",
    "sequence_long_test=[[[int(x)] for x in xi]  for xi in test_long.day1]\n",
    "\n",
    "\n",
    "#len(compressed_set.flag)\n",
    "len_sequence_short_test=[len(xi) for xi in test_short.day1]\n",
    "sequence_short_test=[[[int(x)] for x in xi]  for xi in test_short.day1]"
   ]
  },
  {
   "cell_type": "code",
   "execution_count": 34,
   "metadata": {},
   "outputs": [],
   "source": [
    "from evaluation import first_week_number_testing"
   ]
  },
  {
   "cell_type": "code",
   "execution_count": 35,
   "metadata": {},
   "outputs": [],
   "source": [
    "first_week_temporal_sequence_result=pd.DataFrame([],columns=[\"Number of days\",\"Number of States\",\"Precision\",\"Recall\",\"F-measure\",\"Accuracy\"])\n",
    "columns = list(first_week_temporal_sequence_result)\n",
    "data = []"
   ]
  },
  {
   "cell_type": "code",
   "execution_count": 36,
   "metadata": {},
   "outputs": [],
   "source": [
    "for n_days in [1,4,8]:\n",
    "\n",
    "    #len(compressed_set.flag)\n",
    "    len_sequence_long_test=[len(xi) for xi in test_long[\"day\"+str(n_days)]]\n",
    "    sequence_long_test=[[[int(x)] for x in xi]  for xi in test_long[\"day\"+str(n_days)]]\n",
    "\n",
    "\n",
    "    #len(compressed_set.flag)\n",
    "    len_sequence_short_test=[len(xi) for xi in  test_short[\"day\"+str(n_days)]]\n",
    "    sequence_short_test=[[[int(x)] for x in xi]  for xi in  test_short[\"day\"+str(n_days)]]\n",
    "\n",
    "\n",
    "\n",
    "    for n_states in [5,10,15]:\n",
    "\n",
    "\n",
    "        fname=\"./models/hmm_long_\"+str(n_states)+\".pkl\"\n",
    "        with open(fname, 'rb') as input:\n",
    "            hmm_long = pickle.load(input)\n",
    "        fname=\"./models/hmm_short_\"+str(n_states)+\".pkl\"\n",
    "        with open(fname, 'rb') as input:\n",
    "            hmm_short = pickle.load(input)\n",
    "\n",
    "        tp,tn,fn,fp=first_week_number_testing(sequence_short_test,sequence_long_test,hmm_short,hmm_long)\n",
    "        precision=tp/(tp+fp)\n",
    "        recall=tp/(tp+fn)\n",
    "        accuracy=(tp+tn)/(tp+tn+fn+fp)\n",
    "        f1 = (2*precision*recall)/(precision+recall)\n",
    "        values =[n_days ,n_states,precision,recall,f1,accuracy]\n",
    "        zipped = zip(columns, values)\n",
    "        a_dictionary = dict(zipped)\n",
    "        data.append(a_dictionary)\n",
    "\n"
   ]
  },
  {
   "cell_type": "code",
   "execution_count": 37,
   "metadata": {},
   "outputs": [],
   "source": [
    "first_week_temporal_sequence_result = first_week_temporal_sequence_result.append(data,True)"
   ]
  },
  {
   "cell_type": "code",
   "execution_count": 38,
   "metadata": {},
   "outputs": [
    {
     "data": {
      "text/html": "<div>\n<style scoped>\n    .dataframe tbody tr th:only-of-type {\n        vertical-align: middle;\n    }\n\n    .dataframe tbody tr th {\n        vertical-align: top;\n    }\n\n    .dataframe thead th {\n        text-align: right;\n    }\n</style>\n<table border=\"1\" class=\"dataframe\">\n  <thead>\n    <tr style=\"text-align: right;\">\n      <th></th>\n      <th>Number of States</th>\n      <th>Precision</th>\n      <th>Recall</th>\n      <th>F-measure</th>\n      <th>Accuracy</th>\n    </tr>\n  </thead>\n  <tbody>\n    <tr>\n      <th>0</th>\n      <td>5</td>\n      <td>0.454827</td>\n      <td>0.470995</td>\n      <td>0.462770</td>\n      <td>0.616981</td>\n    </tr>\n    <tr>\n      <th>1</th>\n      <td>10</td>\n      <td>0.517072</td>\n      <td>0.735209</td>\n      <td>0.607142</td>\n      <td>0.666753</td>\n    </tr>\n    <tr>\n      <th>2</th>\n      <td>15</td>\n      <td>0.518523</td>\n      <td>0.687567</td>\n      <td>0.591199</td>\n      <td>0.666955</td>\n    </tr>\n    <tr>\n      <th>3</th>\n      <td>5</td>\n      <td>0.481893</td>\n      <td>0.478483</td>\n      <td>0.480182</td>\n      <td>0.637155</td>\n    </tr>\n    <tr>\n      <th>4</th>\n      <td>10</td>\n      <td>0.561785</td>\n      <td>0.771744</td>\n      <td>0.650236</td>\n      <td>0.709205</td>\n    </tr>\n    <tr>\n      <th>5</th>\n      <td>15</td>\n      <td>0.559604</td>\n      <td>0.725418</td>\n      <td>0.631813</td>\n      <td>0.703873</td>\n    </tr>\n    <tr>\n      <th>6</th>\n      <td>5</td>\n      <td>0.498538</td>\n      <td>0.491072</td>\n      <td>0.494777</td>\n      <td>0.648741</td>\n    </tr>\n    <tr>\n      <th>7</th>\n      <td>10</td>\n      <td>0.574446</td>\n      <td>0.780959</td>\n      <td>0.661970</td>\n      <td>0.720647</td>\n    </tr>\n    <tr>\n      <th>8</th>\n      <td>15</td>\n      <td>0.571218</td>\n      <td>0.734880</td>\n      <td>0.642795</td>\n      <td>0.713932</td>\n    </tr>\n  </tbody>\n</table>\n</div>",
      "text/plain": "  Number of States  Precision    Recall  F-measure  Accuracy\n0                5   0.454827  0.470995   0.462770  0.616981\n1               10   0.517072  0.735209   0.607142  0.666753\n2               15   0.518523  0.687567   0.591199  0.666955\n3                5   0.481893  0.478483   0.480182  0.637155\n4               10   0.561785  0.771744   0.650236  0.709205\n5               15   0.559604  0.725418   0.631813  0.703873\n6                5   0.498538  0.491072   0.494777  0.648741\n7               10   0.574446  0.780959   0.661970  0.720647\n8               15   0.571218  0.734880   0.642795  0.713932"
     },
     "execution_count": 38,
     "metadata": {},
     "output_type": "execute_result"
    }
   ],
   "source": [
    "first_week_temporal_sequence_result"
   ]
  },
  {
   "cell_type": "code",
   "execution_count": null,
   "metadata": {},
   "outputs": [],
   "source": []
  }
 ]
}