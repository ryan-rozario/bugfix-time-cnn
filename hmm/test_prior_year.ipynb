{
 "nbformat": 4,
 "nbformat_minor": 2,
 "metadata": {
  "language_info": {
   "name": "python",
   "codemirror_mode": {
    "name": "ipython",
    "version": 3
   },
   "version": "3.6.9-final"
  },
  "orig_nbformat": 2,
  "file_extension": ".py",
  "mimetype": "text/x-python",
  "name": "python",
  "npconvert_exporter": "python",
  "pygments_lexer": "ipython3",
  "version": 3,
  "kernelspec": {
   "name": "python36964bit2c488aece8b54325bf9de11e77a9e3a5",
   "display_name": "Python 3.6.9 64-bit"
  }
 },
 "cells": [
  {
   "cell_type": "code",
   "execution_count": 14,
   "metadata": {},
   "outputs": [],
   "source": [
    "import pandas as pd\n",
    "import numpy as np\n",
    "import datetime\n",
    "import pickle"
   ]
  },
  {
   "cell_type": "code",
   "execution_count": 15,
   "metadata": {},
   "outputs": [],
   "source": [
    "test_short= pd.read_pickle(\"./../data/processed/test_short.pkl\")\n",
    "test_long= pd.read_pickle(\"./../data/processed/test_long.pkl\")"
   ]
  },
  {
   "cell_type": "code",
   "execution_count": 16,
   "metadata": {},
   "outputs": [],
   "source": [
    "from evaluation import activity_number_testing"
   ]
  },
  {
   "cell_type": "code",
   "execution_count": 17,
   "metadata": {},
   "outputs": [],
   "source": [
    "fixed_length_temporal_sequence_result=pd.DataFrame([],columns=[\"Year\",\"Number of Activities\",\"Number of States\",\"Precision\",\"Recall\",\"F-measure\",\"Accuracy\"])\n",
    "columns = list(fixed_length_temporal_sequence_result)\n",
    "data = []"
   ]
  },
  {
   "cell_type": "code",
   "execution_count": 18,
   "metadata": {},
   "outputs": [
    {
     "name": "stdout",
     "output_type": "stream",
     "text": "{'Year': 2007, 'Number of Activities': 4, 'Number of States': 5, 'Precision': 0.3877212389380531, 'Recall': 0.8405275779376499, 'F-measure': 0.5306585919757759, 'Accuracy': 0.5135347194978422}\n{'Year': 2008, 'Number of Activities': 4, 'Number of States': 5, 'Precision': 0.3914940021810251, 'Recall': 0.8609112709832134, 'F-measure': 0.5382308845577211, 'Accuracy': 0.5166732051785013}\n{'Year': 2009, 'Number of Activities': 4, 'Number of States': 5, 'Precision': 0.4273170731707317, 'Recall': 0.5251798561151079, 'F-measure': 0.47122108660570194, 'Accuracy': 0.6143585719890153}\n{'Year': 2010, 'Number of Activities': 4, 'Number of States': 5, 'Precision': 0.38707613563659626, 'Recall': 0.7254196642685852, 'F-measure': 0.5047976637463496, 'Accuracy': 0.5343271871322087}\n{'Year': 2011, 'Number of Activities': 4, 'Number of States': 5, 'Precision': 0.36158578263841423, 'Recall': 0.6342925659472423, 'F-measure': 0.46060078363082285, 'Accuracy': 0.5139270302079246}\n{'Year': 2012, 'Number of Activities': 4, 'Number of States': 5, 'Precision': 0.3800116211504939, 'Recall': 0.7841726618705036, 'F-measure': 0.5119373776908024, 'Accuracy': 0.5107885445272656}\n{'Year': 2013, 'Number of Activities': 4, 'Number of States': 5, 'Precision': 0.39945205479452056, 'Recall': 0.8741007194244604, 'F-measure': 0.5483264385107184, 'Accuracy': 0.5288348371910553}\n{'Year': 2014, 'Number of Activities': 4, 'Number of States': 5, 'Precision': 0.41397445529676935, 'Recall': 0.6606714628297362, 'F-measure': 0.5090069284064666, 'Accuracy': 0.5829737151824245}\n"
    }
   ],
   "source": [
    "for n_year in range(2007,2015):\n",
    "    start = datetime.date(year=i,month=1,day=1)\n",
    "    end = datetime.date(year=i+1,month=1,day=1)\n",
    "\n",
    "    test_long_year = test_long[(test_long['end'] > start) & (test_long['end'] < end)]\n",
    "    test_short_year = test_short[(test_short['end'] > start) & (test_short['end'] < end)]\n",
    "\n",
    "\n",
    "    #len(compressed_set.flag)\n",
    "    len_sequence_long_test=[len(xi) for xi in test_long_year.flag]\n",
    "    sequence_long_test=[[[int(x)] for x in xi]  for xi in test_long_year.flag]\n",
    "\n",
    "\n",
    "    #len(compressed_set.flag)\n",
    "    len_sequence_short_test=[len(xi) for xi in test_short_year.flag]\n",
    "    sequence_short_test=[[[int(x)] for x in xi]  for xi in test_short_year.flag]\n",
    "\n",
    "    for n_states in [5]:\n",
    "\n",
    "\n",
    "        fname=\"./models/hmm_long_\"+str(n_year-1)+\"_\"+str(n_states)+\".pkl\"\n",
    "        with open(fname, 'rb') as input:\n",
    "            hmm_long = pickle.load(input)\n",
    "        fname=\"./models/hmm_short_\"+str(n_year-1)+\"_\"+str(n_states)+\".pkl\"\n",
    "        with open(fname, 'rb') as input:\n",
    "            hmm_short = pickle.load(input)\n",
    "\n",
    "\n",
    "        for n_activities in range(4,5):\n",
    "            tp,tn,fn,fp=activity_number_testing(sequence_short_test,sequence_long_test,hmm_short,hmm_long,n_activities)\n",
    "            precision=tp/(tp+fp)\n",
    "            recall=tp/(tp+fn)\n",
    "            accuracy=(tp+tn)/(tp+tn+fn+fp)\n",
    "            f1 = (2*precision*recall)/(precision+recall)\n",
    "            values =[n_year,n_activities,n_states,precision,recall,f1,accuracy]\n",
    "            zipped = zip(columns, values)\n",
    "            a_dictionary = dict(zipped)\n",
    "            print(a_dictionary)\n",
    "            data.append(a_dictionary)\n"
   ]
  },
  {
   "cell_type": "code",
   "execution_count": 19,
   "metadata": {},
   "outputs": [],
   "source": [
    "fixed_length_temporal_sequence_result = fixed_length_temporal_sequence_result.append(data,True)"
   ]
  },
  {
   "cell_type": "code",
   "execution_count": 20,
   "metadata": {},
   "outputs": [
    {
     "data": {
      "text/html": "<div>\n<style scoped>\n    .dataframe tbody tr th:only-of-type {\n        vertical-align: middle;\n    }\n\n    .dataframe tbody tr th {\n        vertical-align: top;\n    }\n\n    .dataframe thead th {\n        text-align: right;\n    }\n</style>\n<table border=\"1\" class=\"dataframe\">\n  <thead>\n    <tr style=\"text-align: right;\">\n      <th></th>\n      <th>Year</th>\n      <th>Number of Activities</th>\n      <th>Number of States</th>\n      <th>Precision</th>\n      <th>Recall</th>\n      <th>F-measure</th>\n      <th>Accuracy</th>\n    </tr>\n  </thead>\n  <tbody>\n    <tr>\n      <th>0</th>\n      <td>2007</td>\n      <td>4</td>\n      <td>5</td>\n      <td>0.387721</td>\n      <td>0.840528</td>\n      <td>0.530659</td>\n      <td>0.513535</td>\n    </tr>\n    <tr>\n      <th>1</th>\n      <td>2008</td>\n      <td>4</td>\n      <td>5</td>\n      <td>0.391494</td>\n      <td>0.860911</td>\n      <td>0.538231</td>\n      <td>0.516673</td>\n    </tr>\n    <tr>\n      <th>2</th>\n      <td>2009</td>\n      <td>4</td>\n      <td>5</td>\n      <td>0.427317</td>\n      <td>0.525180</td>\n      <td>0.471221</td>\n      <td>0.614359</td>\n    </tr>\n    <tr>\n      <th>3</th>\n      <td>2010</td>\n      <td>4</td>\n      <td>5</td>\n      <td>0.387076</td>\n      <td>0.725420</td>\n      <td>0.504798</td>\n      <td>0.534327</td>\n    </tr>\n    <tr>\n      <th>4</th>\n      <td>2011</td>\n      <td>4</td>\n      <td>5</td>\n      <td>0.361586</td>\n      <td>0.634293</td>\n      <td>0.460601</td>\n      <td>0.513927</td>\n    </tr>\n    <tr>\n      <th>5</th>\n      <td>2012</td>\n      <td>4</td>\n      <td>5</td>\n      <td>0.380012</td>\n      <td>0.784173</td>\n      <td>0.511937</td>\n      <td>0.510789</td>\n    </tr>\n    <tr>\n      <th>6</th>\n      <td>2013</td>\n      <td>4</td>\n      <td>5</td>\n      <td>0.399452</td>\n      <td>0.874101</td>\n      <td>0.548326</td>\n      <td>0.528835</td>\n    </tr>\n    <tr>\n      <th>7</th>\n      <td>2014</td>\n      <td>4</td>\n      <td>5</td>\n      <td>0.413974</td>\n      <td>0.660671</td>\n      <td>0.509007</td>\n      <td>0.582974</td>\n    </tr>\n  </tbody>\n</table>\n</div>",
      "text/plain": "   Year Number of Activities Number of States  Precision    Recall  F-measure  \\\n0  2007                    4                5   0.387721  0.840528   0.530659   \n1  2008                    4                5   0.391494  0.860911   0.538231   \n2  2009                    4                5   0.427317  0.525180   0.471221   \n3  2010                    4                5   0.387076  0.725420   0.504798   \n4  2011                    4                5   0.361586  0.634293   0.460601   \n5  2012                    4                5   0.380012  0.784173   0.511937   \n6  2013                    4                5   0.399452  0.874101   0.548326   \n7  2014                    4                5   0.413974  0.660671   0.509007   \n\n   Accuracy  \n0  0.513535  \n1  0.516673  \n2  0.614359  \n3  0.534327  \n4  0.513927  \n5  0.510789  \n6  0.528835  \n7  0.582974  "
     },
     "execution_count": 20,
     "metadata": {},
     "output_type": "execute_result"
    }
   ],
   "source": [
    "fixed_length_temporal_sequence_result"
   ]
  },
  {
   "cell_type": "code",
   "execution_count": null,
   "metadata": {},
   "outputs": [],
   "source": []
  }
 ]
}